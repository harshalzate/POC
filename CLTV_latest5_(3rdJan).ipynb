{
  "nbformat": 4,
  "nbformat_minor": 0,
  "metadata": {
    "colab": {
      "private_outputs": true,
      "provenance": []
    },
    "kernelspec": {
      "name": "python3",
      "display_name": "Python 3"
    },
    "language_info": {
      "name": "python"
    }
  },
  "cells": [
    {
      "cell_type": "code",
      "source": [
        "# Step 2: Set up Kaggle API credentials\n",
        "!mkdir -p ~/.kaggle\n",
        "!cp kaggle.json ~/.kaggle/\n",
        "!chmod 600 ~/.kaggle/kaggle.json\n",
        "\n",
        "# Step 3: Install the Kaggle library (if not already installed)\n",
        "!pip install kaggle\n",
        "\n",
        "# Step 4: Download the Customer Life Time Value dataset\n",
        "!kaggle datasets download shibumohapatra/customer-life-time-value\n",
        "\n",
        "# Step 5: Extract the downloaded zip file\n",
        "import zipfile\n",
        "with zipfile.ZipFile(\"customer-life-time-value.zip\", 'r') as zip_ref:\n",
        "    zip_ref.extractall(\"customer-life-time-value\")\n",
        "\n",
        "# Step 6: List the extracted files to confirm 'train_BRCpofr.csv' is present\n",
        "!ls customer-life-time-value\n",
        "\n",
        "# Step 7: Load the 'train_BRCpofr.csv' file into a Pandas DataFrame\n",
        "import pandas as pd\n",
        "ds = pd.read_csv(\"customer-life-time-value/train_BRCpofr.csv\")\n"
      ],
      "metadata": {
        "id": "hu8lenWlix1R"
      },
      "execution_count": null,
      "outputs": []
    },
    {
      "cell_type": "code",
      "source": [
        "ds.shape"
      ],
      "metadata": {
        "id": "StDbXZcpi1df"
      },
      "execution_count": null,
      "outputs": []
    },
    {
      "cell_type": "code",
      "source": [
        "(1.6-1.8)/1.6"
      ],
      "metadata": {
        "id": "blITGyupgH6E"
      },
      "execution_count": null,
      "outputs": []
    },
    {
      "cell_type": "code",
      "source": [
        "ds.sample(10)"
      ],
      "metadata": {
        "id": "l_875x1Pi2Cg"
      },
      "execution_count": null,
      "outputs": []
    },
    {
      "cell_type": "code",
      "source": [
        "ds.info()"
      ],
      "metadata": {
        "id": "PZp5nUuqjOLW"
      },
      "execution_count": null,
      "outputs": []
    },
    {
      "cell_type": "code",
      "source": [
        "ds.describe()"
      ],
      "metadata": {
        "id": "m3B0npTvkuKD"
      },
      "execution_count": null,
      "outputs": []
    },
    {
      "cell_type": "code",
      "source": [
        "ds.columns"
      ],
      "metadata": {
        "id": "d96euPvHk900"
      },
      "execution_count": null,
      "outputs": []
    },
    {
      "cell_type": "code",
      "source": [
        "ds['gender'].value_counts().plot(kind='bar')"
      ],
      "metadata": {
        "id": "ALYRqetHlPxv"
      },
      "execution_count": null,
      "outputs": []
    },
    {
      "cell_type": "code",
      "source": [
        "ds['area'].value_counts().plot(kind='bar')"
      ],
      "metadata": {
        "id": "DJwFRQVTlSSG"
      },
      "execution_count": null,
      "outputs": []
    },
    {
      "cell_type": "code",
      "source": [
        "ds['qualification'].value_counts()"
      ],
      "metadata": {
        "id": "CjRQ8QwFuxF3"
      },
      "execution_count": null,
      "outputs": []
    },
    {
      "cell_type": "code",
      "source": [
        "ds['income'].value_counts()"
      ],
      "metadata": {
        "id": "xBgOkk-Mu3PO"
      },
      "execution_count": null,
      "outputs": []
    },
    {
      "cell_type": "code",
      "source": [
        "ds['marital_status'].value_counts()"
      ],
      "metadata": {
        "id": "c7jJCn8EvDyS"
      },
      "execution_count": null,
      "outputs": []
    },
    {
      "cell_type": "code",
      "source": [
        "ds['vintage'].value_counts().plot(kind='bar')"
      ],
      "metadata": {
        "id": "QkMoiPKjv6bi"
      },
      "execution_count": null,
      "outputs": []
    },
    {
      "cell_type": "code",
      "source": [
        "ds['claim_amount'].plot(kind='kde')"
      ],
      "metadata": {
        "id": "ezxeAFKDwZo7"
      },
      "execution_count": null,
      "outputs": []
    },
    {
      "cell_type": "code",
      "source": [
        "ds[ds['claim_amount']==0].shape"
      ],
      "metadata": {
        "id": "IoE3M-XTwdzd"
      },
      "execution_count": null,
      "outputs": []
    },
    {
      "cell_type": "code",
      "source": [
        "ds[ds['claim_amount']!=0]['claim_amount'].mean()"
      ],
      "metadata": {
        "id": "3mmtQMmLw3yY"
      },
      "execution_count": null,
      "outputs": []
    },
    {
      "cell_type": "code",
      "source": [
        "ds[ds['claim_amount']!=0]['claim_amount'].median()"
      ],
      "metadata": {
        "id": "w8beIpaPxG5N"
      },
      "execution_count": null,
      "outputs": []
    },
    {
      "cell_type": "code",
      "source": [
        "ds['num_policies'].value_counts()"
      ],
      "metadata": {
        "id": "DDYJddL9xfDn"
      },
      "execution_count": null,
      "outputs": []
    },
    {
      "cell_type": "code",
      "source": [
        "ds['policy'].value_counts()"
      ],
      "metadata": {
        "id": "5UbUFo8Jxrpt"
      },
      "execution_count": null,
      "outputs": []
    },
    {
      "cell_type": "code",
      "source": [
        "ds['type_of_policy'].value_counts().plot(kind='pie',autopct='%1.1f%%')"
      ],
      "metadata": {
        "id": "drVfJ45Tx52o"
      },
      "execution_count": null,
      "outputs": []
    },
    {
      "cell_type": "code",
      "source": [
        "ds['cltv'].describe()"
      ],
      "metadata": {
        "id": "k6GxalGEyH0S"
      },
      "execution_count": null,
      "outputs": []
    },
    {
      "cell_type": "code",
      "source": [
        "ds['cltv'].plot(kind='kde')"
      ],
      "metadata": {
        "id": "46ArMXFtyen4"
      },
      "execution_count": null,
      "outputs": []
    },
    {
      "cell_type": "code",
      "source": [
        "ds.columns"
      ],
      "metadata": {
        "id": "uWtHSCNv2QS_"
      },
      "execution_count": null,
      "outputs": []
    },
    {
      "cell_type": "code",
      "source": [
        "# income column range inta single number\n",
        "# check for the relationships between the other column and estimate the close limit.\n",
        "#1. num_policies have the direct correlation between the income\n",
        "#2. 5-10L 60% male with respect to all the males where as 57% females  as well as 26% females where as 16% males for income less than 2 lpa"
      ],
      "metadata": {
        "id": "vAi5YZHH5EX9"
      },
      "execution_count": null,
      "outputs": []
    },
    {
      "cell_type": "code",
      "source": [
        "ds[ds['income']=='More than 10L'][['num_policies']].value_counts()"
      ],
      "metadata": {
        "id": "JM8TruYY2sPP"
      },
      "execution_count": null,
      "outputs": []
    },
    {
      "cell_type": "code",
      "source": [
        "ds[['income','num_policies']].sample(30)"
      ],
      "metadata": {
        "id": "IUyiemDawJ83"
      },
      "execution_count": null,
      "outputs": []
    },
    {
      "cell_type": "code",
      "source": [
        "gender = ds.groupby('gender')"
      ],
      "metadata": {
        "id": "fzrh1AcEzasp"
      },
      "execution_count": null,
      "outputs": []
    },
    {
      "cell_type": "code",
      "source": [
        "gender['income'].value_counts()"
      ],
      "metadata": {
        "id": "UholGuPG5jwr"
      },
      "execution_count": null,
      "outputs": []
    },
    {
      "cell_type": "code",
      "source": [
        "(ds[ds['gender']=='Female']).shape"
      ],
      "metadata": {
        "id": "KahlEtGx7Ptv"
      },
      "execution_count": null,
      "outputs": []
    },
    {
      "cell_type": "code",
      "source": [
        "22220 + 9493 + 6144 + 1038"
      ],
      "metadata": {
        "id": "e2An6kR97bXP"
      },
      "execution_count": null,
      "outputs": []
    },
    {
      "cell_type": "code",
      "source": [
        "(gender['income'].value_counts()['Female']/38895)"
      ],
      "metadata": {
        "id": "ebu55Gvo7k_5"
      },
      "execution_count": null,
      "outputs": []
    },
    {
      "cell_type": "code",
      "source": [
        "(gender['income'].value_counts()['Male'])/50497"
      ],
      "metadata": {
        "id": "s8OeQGTDHXgB"
      },
      "execution_count": null,
      "outputs": []
    },
    {
      "cell_type": "code",
      "source": [
        "(gender['income'].value_counts()['Female']/38865).plot(color='Black',label='Female')\n",
        "(gender['income'].value_counts()['Male']/50497).plot(color='Red',label='Male')\n"
      ],
      "metadata": {
        "id": "2L5ptM_Q53Yf"
      },
      "execution_count": null,
      "outputs": []
    },
    {
      "cell_type": "code",
      "source": [
        "# Qualificaton\n",
        "# not conclusive\n",
        "quali= ds.groupby('qualification')\n",
        "quali['income'].value_counts()"
      ],
      "metadata": {
        "id": "9qbO6Hmy6jza"
      },
      "execution_count": null,
      "outputs": []
    },
    {
      "cell_type": "code",
      "source": [
        "quali= ds.groupby('marital_status')\n",
        "quali['income'].value_counts()"
      ],
      "metadata": {
        "id": "ade8LHt8Scx_"
      },
      "execution_count": null,
      "outputs": []
    },
    {
      "cell_type": "code",
      "source": [
        "# marital_status\n",
        "def income_per(ds,var):\n",
        "  temp_df=pd.DataFrame(columns=['status','income','distribution_percent'])\n",
        "  for i in ds[var].unique():\n",
        "    T=pd.DataFrame(columns=['status','income','distribution_percent'])\n",
        "    t=ds[ds[var]==i]\n",
        "    for j in t['income'].unique():\n",
        "      Tt=(t[t['income']==j].shape[0]/t.shape[0])\n",
        "      T[['status','income','distribution_percent']] = [[j,i,Tt]]\n",
        "      temp_df =pd.concat([temp_df,T],ignore_index=True)\n",
        "\n",
        "  return temp_df.set_index('status').pivot(columns='income')\n",
        "income_per(ds,'marital_status')\n",
        "#income_percentage.set_index('status').pivot(columns='income')"
      ],
      "metadata": {
        "id": "txhW39thJ1_0"
      },
      "execution_count": null,
      "outputs": []
    },
    {
      "cell_type": "code",
      "source": [
        "# Area\n",
        "income_per(ds,'area')"
      ],
      "metadata": {
        "id": "T431jUwrOeJX"
      },
      "execution_count": null,
      "outputs": []
    },
    {
      "cell_type": "code",
      "source": [
        "area=ds.groupby('area')\n",
        "t = area['income'].value_counts()\n",
        "t"
      ],
      "metadata": {
        "id": "bqPJtdtLTTYt"
      },
      "execution_count": null,
      "outputs": []
    },
    {
      "cell_type": "code",
      "source": [
        "t['Rural']/t['Rural'].values.sum()"
      ],
      "metadata": {
        "id": "0M1EBlJeUWRk"
      },
      "execution_count": null,
      "outputs": []
    },
    {
      "cell_type": "code",
      "source": [
        "t['Urban']/t['Urban'].values.sum()"
      ],
      "metadata": {
        "id": "DSWY4oPnUhdj"
      },
      "execution_count": null,
      "outputs": []
    },
    {
      "cell_type": "code",
      "source": [
        "ds.columns\n"
      ],
      "metadata": {
        "id": "O6tnOGsvU48z"
      },
      "execution_count": null,
      "outputs": []
    },
    {
      "cell_type": "code",
      "source": [
        "income_per(ds,'policy')"
      ],
      "metadata": {
        "id": "osHuIN8FVSkO"
      },
      "execution_count": null,
      "outputs": []
    },
    {
      "cell_type": "code",
      "source": [
        "# type_of_policy\n",
        "# quite descent realationship\n",
        "income_per(ds,'type_of_policy')"
      ],
      "metadata": {
        "id": "fmM8cVbQVX-U"
      },
      "execution_count": null,
      "outputs": []
    },
    {
      "cell_type": "code",
      "source": [
        "inc = ds.groupby('income')\n",
        "inc['cltv'].mean()"
      ],
      "metadata": {
        "id": "bdueua-gVyPb"
      },
      "execution_count": null,
      "outputs": []
    },
    {
      "cell_type": "code",
      "source": [
        "ds.columns"
      ],
      "metadata": {
        "id": "PcSg6q9XZFYp"
      },
      "execution_count": null,
      "outputs": []
    },
    {
      "cell_type": "code",
      "source": [
        "ds['claim_amount'].describe()"
      ],
      "metadata": {
        "id": "YIzDT8bsjJ3Q"
      },
      "execution_count": null,
      "outputs": []
    },
    {
      "cell_type": "code",
      "source": [
        "sigma = ds['claim_amount'].std()\n",
        "mean = ds['claim_amount'].mean()\n",
        "upperlimit = mean  + 3 * (sigma)\n",
        "lowerlimit = mean - 3*(sigma)\n",
        "print(upperlimit,lowerlimit)"
      ],
      "metadata": {
        "id": "TWATVIi2irPM"
      },
      "execution_count": null,
      "outputs": []
    },
    {
      "cell_type": "code",
      "source": [
        "sigma/mean"
      ],
      "metadata": {
        "id": "-SxJIRVVjZ3w"
      },
      "execution_count": null,
      "outputs": []
    },
    {
      "cell_type": "code",
      "source": [
        "ds = ds[((ds['claim_amount']>lowerlimit) & (ds['claim_amount'] < upperlimit))]"
      ],
      "metadata": {
        "id": "fH5UF5cBkIC_"
      },
      "execution_count": null,
      "outputs": []
    },
    {
      "cell_type": "code",
      "source": [
        "# basic training\n",
        "from sklearn.model_selection import train_test_split\n",
        "from sklearn.linear_model import LinearRegression\n",
        "from sklearn.ensemble import RandomForestRegressor\n",
        "from sklearn.ensemble import GradientBoostingRegressor\n",
        "from sklearn.compose import ColumnTransformer\n",
        "from sklearn.preprocessing import OneHotEncoder,OrdinalEncoder,StandardScaler,LabelEncoder\n",
        "from sklearn.metrics import r2_score,mean_absolute_error,mean_absolute_error"
      ],
      "metadata": {
        "id": "bUemj8YbheyK"
      },
      "execution_count": null,
      "outputs": []
    },
    {
      "cell_type": "code",
      "source": [
        "X=ds.iloc[:,1:-1]\n",
        "y=ds.iloc[:,-1]"
      ],
      "metadata": {
        "id": "WHgZdQ7QmM62"
      },
      "execution_count": null,
      "outputs": []
    },
    {
      "cell_type": "code",
      "source": [
        "X_train,x_test,y_train,y_test = train_test_split(X,y,test_size=0.8)"
      ],
      "metadata": {
        "id": "cklToOfUl6Wz"
      },
      "execution_count": null,
      "outputs": []
    },
    {
      "cell_type": "code",
      "source": [
        "ds['type_of_policy'].unique()"
      ],
      "metadata": {
        "id": "xjMcaxStnKjh"
      },
      "execution_count": null,
      "outputs": []
    },
    {
      "cell_type": "code",
      "source": [
        "scaling= StandardScaler()"
      ],
      "metadata": {
        "id": "q2ZY-nVevAbY"
      },
      "execution_count": null,
      "outputs": []
    },
    {
      "cell_type": "code",
      "source": [
        "ohe = OneHotEncoder(drop='first',sparse_output=False)\n",
        "ord_quali = OrdinalEncoder(categories=[['Others','High School','Bachelor']])\n",
        "ord_inco = OrdinalEncoder(categories=[['<=2L','2L-5L','5L-10L','More than 10L']])\n",
        "ord_num_policies = OrdinalEncoder(categories=[['1','More than 1']])\n",
        "ohe_policy = OneHotEncoder(drop='first')\n",
        "ord_type_policy = OrdinalEncoder(categories=[['Silver','Platinum','Gold']])"
      ],
      "metadata": {
        "id": "SLziF_AZl8ep"
      },
      "execution_count": null,
      "outputs": []
    },
    {
      "cell_type": "code",
      "source": [
        "label_encoder = LabelEncoder()"
      ],
      "metadata": {
        "id": "13bf5-OiV5-i"
      },
      "execution_count": null,
      "outputs": []
    },
    {
      "cell_type": "code",
      "source": [
        "ds.head(3)"
      ],
      "metadata": {
        "id": "1TfImVVSrSQI"
      },
      "execution_count": null,
      "outputs": []
    },
    {
      "cell_type": "code",
      "source": [
        "tr = ColumnTransformer(\n",
        "    transformers=[\n",
        "        #('ohe', ohe, ['gender','area','marital_status']),\n",
        "        ('ord_quali', ord_quali, ['qualification']),\n",
        "        ('ord_inco', ord_inco, ['income']),\n",
        "        ('ord_num_policies', ord_num_policies, ['num_policies']),\n",
        "        # ('ohe_policy', ohe_policy, ['policy']),\n",
        "        ('label_gender',label_encoder,['gender']),\n",
        "        ('label_area',label_encoder,['area']),\n",
        "        ('label_marital_status',label_encoder,['marital_status']),\n",
        "        ('label_policy',label_encoder,['policy']),\n",
        "        ('ord_type_policy', ord_type_policy, ['type_of_policy']),\n",
        "        ('scaling',scaling,['vintage','claim_amount'])\n",
        "    ],\n",
        "    remainder='passthrough'\n",
        ")"
      ],
      "metadata": {
        "id": "uHRJaA4Sqvxn"
      },
      "execution_count": null,
      "outputs": []
    },
    {
      "cell_type": "code",
      "source": [
        "X_train"
      ],
      "metadata": {
        "id": "m0k2-UL1bYSt"
      },
      "execution_count": null,
      "outputs": []
    },
    {
      "cell_type": "code",
      "source": [
        "X_train_tr= tr.fit_transform(X_train)\n",
        "x_test_tr = tr.transform(x_test)\n"
      ],
      "metadata": {
        "id": "fxsQ0zIhuIOe"
      },
      "execution_count": null,
      "outputs": []
    },
    {
      "cell_type": "markdown",
      "source": [
        "# Feature Importances"
      ],
      "metadata": {
        "id": "OXBNAwm6QPQ8"
      }
    },
    {
      "cell_type": "code",
      "source": [
        "import numpy as np"
      ],
      "metadata": {
        "id": "pmjw1Dn6Q1iW"
      },
      "execution_count": null,
      "outputs": []
    },
    {
      "cell_type": "code",
      "source": [
        "X_trans = tr.fit_transform(X)\n",
        "y_trans = np.log1p(y)"
      ],
      "metadata": {
        "id": "letBlSdUQXQR"
      },
      "execution_count": null,
      "outputs": []
    },
    {
      "cell_type": "markdown",
      "source": [
        "# RandomForest Feature importances"
      ],
      "metadata": {
        "id": "KEf_ZOfFQTD7"
      }
    },
    {
      "cell_type": "code",
      "source": [
        "rf = RandomForestRegressor()\n",
        "rf.fit(X_trans,y_trans)\n"
      ],
      "metadata": {
        "id": "ulIJHlNYxC8A"
      },
      "execution_count": null,
      "outputs": []
    },
    {
      "cell_type": "code",
      "source": [
        "rf.feature_importances_.shape"
      ],
      "metadata": {
        "id": "YUseMjZkTQ4q"
      },
      "execution_count": null,
      "outputs": []
    },
    {
      "cell_type": "code",
      "source": [
        "X.columns.shape"
      ],
      "metadata": {
        "id": "tYxHIm6xTdLT"
      },
      "execution_count": null,
      "outputs": []
    },
    {
      "cell_type": "code",
      "source": [],
      "metadata": {
        "id": "g8aKPV1TTgfd"
      },
      "execution_count": null,
      "outputs": []
    },
    {
      "cell_type": "code",
      "source": [
        "rf.feature_importances_\n",
        "rf_importances = pd.DataFrame({'Features':X.columns,'rf_importances':rf.feature_importances_})\n",
        "rf_importances"
      ],
      "metadata": {
        "id": "mWa3Ik5fSF-T"
      },
      "execution_count": null,
      "outputs": []
    },
    {
      "cell_type": "code",
      "source": [
        "rf.feature_importances_"
      ],
      "metadata": {
        "id": "FqhxraTXSHE6"
      },
      "execution_count": null,
      "outputs": []
    },
    {
      "cell_type": "code",
      "source": [
        "# linear regression\n",
        "lr = LinearRegression()\n",
        "lr.fit(X_train_tr,y_train)\n",
        "y_pred = lr.predict(x_test_tr)\n",
        "r2_score(y_test,y_pred)"
      ],
      "metadata": {
        "id": "IJ1Qg7l-mfwQ"
      },
      "execution_count": null,
      "outputs": []
    },
    {
      "cell_type": "code",
      "source": [
        "y_pred_lr_tr= lr.predict(X_train_tr)\n",
        "r2_score()"
      ],
      "metadata": {
        "id": "uNcmwe6Zz6z7"
      },
      "execution_count": null,
      "outputs": []
    },
    {
      "cell_type": "code",
      "source": [
        "# random forest\n",
        "rf = RandomForestRegressor()"
      ],
      "metadata": {
        "id": "DqX594Q0pl9l"
      },
      "execution_count": null,
      "outputs": []
    },
    {
      "cell_type": "code",
      "source": [
        "rf.fit(X_train_tr,y_train)"
      ],
      "metadata": {
        "id": "V8EPbKl7qbbH"
      },
      "execution_count": null,
      "outputs": []
    },
    {
      "cell_type": "code",
      "source": [],
      "metadata": {
        "id": "ACsV8kxk8xeG"
      },
      "execution_count": null,
      "outputs": []
    },
    {
      "cell_type": "code",
      "source": [
        "#y_pred = rf.predict(x_test_tr)\n",
        "y_pred = rf.predict(x_test_tr)"
      ],
      "metadata": {
        "id": "cB-m2LiBwUlV"
      },
      "execution_count": null,
      "outputs": []
    },
    {
      "cell_type": "code",
      "source": [
        "r2_score(y_test,y_pred)"
      ],
      "metadata": {
        "id": "wwK4yVtrwbj4"
      },
      "execution_count": null,
      "outputs": []
    },
    {
      "cell_type": "code",
      "source": [
        "# Gradient boosting\n",
        "Gr = GradientBoostingRegressor()"
      ],
      "metadata": {
        "id": "bl4uH79Uwj1J"
      },
      "execution_count": null,
      "outputs": []
    },
    {
      "cell_type": "code",
      "source": [
        "Gr.fit(X_train_tr,y_train)"
      ],
      "metadata": {
        "id": "z-hC1GIUxmOh"
      },
      "execution_count": null,
      "outputs": []
    },
    {
      "cell_type": "code",
      "source": [
        "y_pred_gr = Gr.predict(x_test_tr)"
      ],
      "metadata": {
        "id": "bFo8R2vCxqZT"
      },
      "execution_count": null,
      "outputs": []
    },
    {
      "cell_type": "code",
      "source": [
        "r2_score(y_test,y_pred_gr)"
      ],
      "metadata": {
        "id": "xoOylIa6xyrA"
      },
      "execution_count": null,
      "outputs": []
    },
    {
      "cell_type": "code",
      "source": [],
      "metadata": {
        "id": "NSYzhtP5yBA_"
      },
      "execution_count": null,
      "outputs": []
    }
  ]
}